{
 "cells": [
  {
   "cell_type": "markdown",
   "metadata": {},
   "source": [
    "Importing Packages"
   ]
  },
  {
   "cell_type": "code",
   "execution_count": 4,
   "metadata": {},
   "outputs": [
    {
     "name": "stderr",
     "output_type": "stream",
     "text": [
      "\u001b[32m\u001b[1m   Resolving\u001b[22m\u001b[39m package versions...\n",
      "\u001b[32m\u001b[1m  No Changes\u001b[22m\u001b[39m to `~/.julia/environments/v1.8/Project.toml`\n",
      "\u001b[32m\u001b[1m  No Changes\u001b[22m\u001b[39m to `~/.julia/environments/v1.8/Manifest.toml`\n",
      "\u001b[32m\u001b[1m   Resolving\u001b[22m\u001b[39m package versions...\n",
      "\u001b[32m\u001b[1m  No Changes\u001b[22m\u001b[39m to `~/.julia/environments/v1.8/Project.toml`\n",
      "\u001b[32m\u001b[1m  No Changes\u001b[22m\u001b[39m to `~/.julia/environments/v1.8/Manifest.toml`\n",
      "\u001b[32m\u001b[1m   Resolving\u001b[22m\u001b[39m package versions...\n",
      "\u001b[32m\u001b[1m  No Changes\u001b[22m\u001b[39m to `~/.julia/environments/v1.8/Project.toml`\n",
      "\u001b[32m\u001b[1m  No Changes\u001b[22m\u001b[39m to `~/.julia/environments/v1.8/Manifest.toml`\n",
      "\u001b[32m\u001b[1m   Resolving\u001b[22m\u001b[39m package versions...\n",
      "\u001b[32m\u001b[1m    Updating\u001b[22m\u001b[39m `~/.julia/environments/v1.8/Project.toml`\n",
      " \u001b[90m [a2db99b7] \u001b[39m\u001b[92m+ TextAnalysis v0.7.3\u001b[39m\n",
      "\u001b[32m\u001b[1m    Updating\u001b[22m\u001b[39m `~/.julia/environments/v1.8/Manifest.toml`\n",
      " \u001b[90m [d1d4a3ce] \u001b[39m\u001b[92m+ BitFlags v0.1.7\u001b[39m\n",
      " \u001b[90m [124859b0] \u001b[39m\u001b[92m+ DataDeps v0.7.10\u001b[39m\n",
      " \u001b[90m [7693890a] \u001b[39m\u001b[92m+ HTML_Entities v1.0.1\u001b[39m\n",
      " \u001b[90m [cd3eb016] \u001b[39m\u001b[92m+ HTTP v1.5.5\u001b[39m\n",
      " \u001b[90m [83e8ac13] \u001b[39m\u001b[92m+ IniFile v0.5.1\u001b[39m\n",
      " \u001b[90m [8ef0a80b] \u001b[39m\u001b[92m+ Languages v0.4.3\u001b[39m\n",
      " \u001b[90m [e6f89c97] \u001b[39m\u001b[92m+ LoggingExtras v1.0.0\u001b[39m\n",
      " \u001b[90m [4d8831e6] \u001b[39m\u001b[92m+ OpenSSL v1.3.2\u001b[39m\n",
      " \u001b[90m [777ac1f9] \u001b[39m\u001b[92m+ SimpleBufferStream v1.1.0\u001b[39m\n",
      " \u001b[90m [fb8f903a] \u001b[39m\u001b[92m+ Snowball v0.1.0\u001b[39m\n",
      " \u001b[90m [9700d1a9] \u001b[39m\u001b[92m+ StrTables v1.0.1\u001b[39m\n",
      " \u001b[90m [a2db99b7] \u001b[39m\u001b[92m+ TextAnalysis v0.7.3\u001b[39m\n",
      " \u001b[90m [5c2747f8] \u001b[39m\u001b[92m+ URIs v1.4.1\u001b[39m\n",
      " \u001b[90m [796a5d58] \u001b[39m\u001b[92m+ WordTokenizers v0.5.6\u001b[39m\n",
      " \u001b[90m [458c3c95] \u001b[39m\u001b[92m+ OpenSSL_jll v1.1.19+0\u001b[39m\n",
      " \u001b[90m [88f46535] \u001b[39m\u001b[92m+ Snowball_jll v2.2.0+0\u001b[39m\n",
      " \u001b[90m [8bb1440f] \u001b[39m\u001b[92m+ DelimitedFiles\u001b[39m\n",
      "\u001b[32m\u001b[1m   Resolving\u001b[22m\u001b[39m package versions...\n",
      "\u001b[32m\u001b[1m   Installed\u001b[22m\u001b[39m StatisticalTraits ──────── v3.2.0\n",
      "\u001b[32m\u001b[1m   Installed\u001b[22m\u001b[39m CategoricalDistributions ─ v0.1.9\n",
      "\u001b[32m\u001b[1m   Installed\u001b[22m\u001b[39m PrettyPrinting ─────────── v0.4.0\n",
      "\u001b[32m\u001b[1m   Installed\u001b[22m\u001b[39m ARFFFiles ──────────────── v1.4.1\n",
      "\u001b[32m\u001b[1m   Installed\u001b[22m\u001b[39m ScientificTypes ────────── v3.0.2\n",
      "\u001b[32m\u001b[1m   Installed\u001b[22m\u001b[39m MLJModels ──────────────── v0.16.2\n",
      "\u001b[32m\u001b[1m   Installed\u001b[22m\u001b[39m IterationControl ───────── v0.5.3\n",
      "\u001b[32m\u001b[1m   Installed\u001b[22m\u001b[39m OpenML ─────────────────── v0.3.0\n",
      "\u001b[32m\u001b[1m   Installed\u001b[22m\u001b[39m MLJBase ────────────────── v0.21.2\n",
      "\u001b[32m\u001b[1m   Installed\u001b[22m\u001b[39m Combinatorics ──────────── v1.0.2\n",
      "\u001b[32m\u001b[1m   Installed\u001b[22m\u001b[39m MLJEnsembles ───────────── v0.3.2\n",
      "\u001b[32m\u001b[1m   Installed\u001b[22m\u001b[39m MLJTuning ──────────────── v0.7.4\n",
      "\u001b[32m\u001b[1m   Installed\u001b[22m\u001b[39m MLJ ────────────────────── v0.19.0\n",
      "\u001b[32m\u001b[1m   Installed\u001b[22m\u001b[39m StableRNGs ─────────────── v1.0.0\n",
      "\u001b[32m\u001b[1m   Installed\u001b[22m\u001b[39m ScientificTypesBase ────── v3.0.0\n",
      "\u001b[32m\u001b[1m   Installed\u001b[22m\u001b[39m MLJIteration ───────────── v0.5.1\n",
      "\u001b[32m\u001b[1m   Installed\u001b[22m\u001b[39m MLJModelInterface ──────── v1.8.0\n",
      "\u001b[32m\u001b[1m   Installed\u001b[22m\u001b[39m LossFunctions ──────────── v0.8.0\n",
      "\u001b[32m\u001b[1m   Installed\u001b[22m\u001b[39m LatinHypercubeSampling ─── v1.8.0\n",
      "\u001b[32m\u001b[1m    Updating\u001b[22m\u001b[39m `~/.julia/environments/v1.8/Project.toml`\n",
      " \u001b[90m [add582a8] \u001b[39m\u001b[92m+ MLJ v0.19.0\u001b[39m\n",
      "\u001b[32m\u001b[1m    Updating\u001b[22m\u001b[39m `~/.julia/environments/v1.8/Manifest.toml`\n",
      " \u001b[90m [da404889] \u001b[39m\u001b[92m+ ARFFFiles v1.4.1\u001b[39m\n",
      " \u001b[90m [af321ab8] \u001b[39m\u001b[92m+ CategoricalDistributions v0.1.9\u001b[39m\n",
      " \u001b[90m [35d6a980] \u001b[39m\u001b[92m+ ColorSchemes v3.20.0\u001b[39m\n",
      " \u001b[90m [861a8166] \u001b[39m\u001b[92m+ Combinatorics v1.0.2\u001b[39m\n",
      " \u001b[90m [187b0558] \u001b[39m\u001b[92m+ ConstructionBase v1.4.1\u001b[39m\n",
      " \u001b[90m [792122b4] \u001b[39m\u001b[92m+ EarlyStopping v0.3.0\u001b[39m\n",
      " \u001b[90m [b38be410] \u001b[39m\u001b[92m+ FreeType v4.0.0\u001b[39m\n",
      " \u001b[90m [b3c1a2ee] \u001b[39m\u001b[92m+ IterationControl v0.5.3\u001b[39m\n",
      " \u001b[90m [a5e1c1ea] \u001b[39m\u001b[92m+ LatinHypercubeSampling v1.8.0\u001b[39m\n",
      " \u001b[90m [30fc2ffe] \u001b[39m\u001b[92m+ LossFunctions v0.8.0\u001b[39m\n",
      " \u001b[90m [add582a8] \u001b[39m\u001b[92m+ MLJ v0.19.0\u001b[39m\n",
      " \u001b[90m [a7f614a8] \u001b[39m\u001b[92m+ MLJBase v0.21.2\u001b[39m\n",
      " \u001b[90m [50ed68f4] \u001b[39m\u001b[92m+ MLJEnsembles v0.3.2\u001b[39m\n",
      " \u001b[90m [614be32b] \u001b[39m\u001b[92m+ MLJIteration v0.5.1\u001b[39m\n",
      " \u001b[90m [e80e1ace] \u001b[39m\u001b[92m+ MLJModelInterface v1.8.0\u001b[39m\n",
      " \u001b[90m [d491faf4] \u001b[39m\u001b[92m+ MLJModels v0.16.2\u001b[39m\n",
      " \u001b[90m [03970b2e] \u001b[39m\u001b[92m+ MLJTuning v0.7.4\u001b[39m\n",
      " \u001b[90m [299715c1] \u001b[39m\u001b[92m+ MarchingCubes v0.1.4\u001b[39m\n",
      " \u001b[90m [8b6db2d4] \u001b[39m\u001b[92m+ OpenML v0.3.0\u001b[39m\n",
      " \u001b[90m [54e16d92] \u001b[39m\u001b[92m+ PrettyPrinting v0.4.0\u001b[39m\n",
      " \u001b[90m [3cdcf5f2] \u001b[39m\u001b[92m+ RecipesBase v1.3.2\u001b[39m\n",
      " \u001b[90m [05181044] \u001b[39m\u001b[92m+ RelocatableFolders v1.0.0\u001b[39m\n",
      " \u001b[90m [321657f4] \u001b[39m\u001b[92m+ ScientificTypes v3.0.2\u001b[39m\n",
      " \u001b[90m [30f210dd] \u001b[39m\u001b[92m+ ScientificTypesBase v3.0.0\u001b[39m\n",
      " \u001b[90m [6c6a2e73] \u001b[39m\u001b[92m+ Scratch v1.1.1\u001b[39m\n",
      " \u001b[90m [860ef19b] \u001b[39m\u001b[92m+ StableRNGs v1.0.0\u001b[39m\n",
      " \u001b[90m [64bff920] \u001b[39m\u001b[92m+ StatisticalTraits v3.2.0\u001b[39m\n",
      " \u001b[90m [b8865327] \u001b[39m\u001b[92m+ UnicodePlots v3.3.1\u001b[39m\n",
      " \u001b[90m [1986cc42] \u001b[39m\u001b[92m+ Unitful v1.12.2\u001b[39m\n",
      "\u001b[32m\u001b[1mPrecompiling\u001b[22m\u001b[39m project...\n",
      "\u001b[32m  ✓ \u001b[39m\u001b[90mScientificTypesBase\u001b[39m\n",
      "\u001b[32m  ✓ \u001b[39m\u001b[90mStableRNGs\u001b[39m\n",
      "\u001b[32m  ✓ \u001b[39m\u001b[90mPrettyPrinting\u001b[39m\n",
      "\u001b[32m  ✓ \u001b[39m\u001b[90mCombinatorics\u001b[39m\n",
      "\u001b[32m  ✓ \u001b[39m\u001b[90mStatisticalTraits\u001b[39m\n",
      "\u001b[32m  ✓ \u001b[39m\u001b[90mIterationControl\u001b[39m\n",
      "\u001b[32m  ✓ \u001b[39m\u001b[90mARFFFiles\u001b[39m\n",
      "\u001b[32m  ✓ \u001b[39m\u001b[90mLossFunctions\u001b[39m\n",
      "\u001b[32m  ✓ \u001b[39m\u001b[90mLatinHypercubeSampling\u001b[39m\n",
      "\u001b[32m  ✓ \u001b[39m\u001b[90mMLJModelInterface\u001b[39m\n",
      "\u001b[32m  ✓ \u001b[39m\u001b[90mScientificTypes\u001b[39m\n",
      "\u001b[32m  ✓ \u001b[39m\u001b[90mOpenML\u001b[39m\n",
      "\u001b[32m  ✓ \u001b[39m\u001b[90mCategoricalDistributions\u001b[39m\n",
      "\u001b[32m  ✓ \u001b[39m\u001b[90mMLJModels\u001b[39m\n",
      "\u001b[32m  ✓ \u001b[39m\u001b[90mMLJBase\u001b[39m\n",
      "\u001b[32m  ✓ \u001b[39m\u001b[90mMLJEnsembles\u001b[39m\n",
      "\u001b[32m  ✓ \u001b[39m\u001b[90mMLJTuning\u001b[39m\n",
      "\u001b[32m  ✓ \u001b[39m\u001b[90mMLJIteration\u001b[39m\n",
      "\u001b[32m  ✓ \u001b[39mMLJ\n",
      "  19 dependencies successfully precompiled in 48 seconds. 267 already precompiled.\n",
      "\u001b[32m\u001b[1m   Resolving\u001b[22m\u001b[39m package versions...\n",
      "\u001b[32m\u001b[1m   Installed\u001b[22m\u001b[39m Chain ─ v0.5.0\n",
      "\u001b[32m\u001b[1m    Updating\u001b[22m\u001b[39m `~/.julia/environments/v1.8/Project.toml`\n",
      " \u001b[90m [8be319e6] \u001b[39m\u001b[92m+ Chain v0.5.0\u001b[39m\n",
      "\u001b[32m\u001b[1m    Updating\u001b[22m\u001b[39m `~/.julia/environments/v1.8/Manifest.toml`\n",
      " \u001b[90m [8be319e6] \u001b[39m\u001b[92m+ Chain v0.5.0\u001b[39m\n",
      "\u001b[32m\u001b[1mPrecompiling\u001b[22m\u001b[39m project...\n",
      "\u001b[32m  ✓ \u001b[39mChain\n",
      "  1 dependency successfully precompiled in 0 seconds. 286 already precompiled.\n",
      "\u001b[32m\u001b[1m   Resolving\u001b[22m\u001b[39m package versions...\n",
      "\u001b[32m\u001b[1m    Updating\u001b[22m\u001b[39m `~/.julia/environments/v1.8/Project.toml`\n",
      " \u001b[90m [b98c9c47] \u001b[39m\u001b[92m+ Pipe v1.3.0\u001b[39m\n",
      "\u001b[32m\u001b[1m    Updating\u001b[22m\u001b[39m `~/.julia/environments/v1.8/Manifest.toml`\n",
      " \u001b[90m [b98c9c47] \u001b[39m\u001b[92m+ Pipe v1.3.0\u001b[39m\n",
      "\u001b[32m\u001b[1m   Resolving\u001b[22m\u001b[39m package versions...\n",
      "\u001b[32m\u001b[1m    Updating\u001b[22m\u001b[39m `~/.julia/environments/v1.8/Project.toml`\n",
      " \u001b[90m [860ef19b] \u001b[39m\u001b[92m+ StableRNGs v1.0.0\u001b[39m\n",
      "\u001b[32m\u001b[1m  No Changes\u001b[22m\u001b[39m to `~/.julia/environments/v1.8/Manifest.toml`\n",
      "\u001b[32m\u001b[1m    Updating\u001b[22m\u001b[39m registry at `~/.julia/registries/General.toml`\n",
      "\u001b[32m\u001b[1m  No Changes\u001b[22m\u001b[39m to `~/.julia/environments/v1.8/Project.toml`\n",
      "\u001b[32m\u001b[1m  No Changes\u001b[22m\u001b[39m to `~/.julia/environments/v1.8/Manifest.toml`\n",
      "WARNING: method definition for stem_all at /Users/desgi/.julia/packages/Snowball/Ibzfl/src/Snowball.jl:89 declares type variable S but does not use it.\n",
      "WARNING: method definition for #CooMatrix#80 at /Users/desgi/.julia/packages/TextAnalysis/B0QxG/src/coom.jl:148 declares type variable T but does not use it.\n"
     ]
    }
   ],
   "source": [
    "using Pkg\n",
    "Pkg.add(\"DataFrames\")\n",
    "Pkg.add(\"CSV\")\n",
    "Pkg.add(\"Gadfly\")\n",
    "Pkg.add(\"TextAnalysis\")\n",
    "Pkg.add(\"MLJ\")\n",
    "Pkg.add(\"Chain\")\n",
    "Pkg.add(\"Pipe\")\n",
    "Pkg.add(\"StableRNGs\")\n",
    "\n",
    "Pkg.update()\n",
    "\n",
    "using DataFrames, CSV, Gadfly, TextAnalysis, MLJ, Chain, Pipe, StableRNGs"
   ]
  },
  {
   "cell_type": "markdown",
   "metadata": {},
   "source": [
    "Reading CSV"
   ]
  },
  {
   "cell_type": "code",
   "execution_count": 6,
   "metadata": {},
   "outputs": [
    {
     "name": "stdout",
     "output_type": "stream",
     "text": [
      "┌──────────┬──────────────────────────────────────────────────────────────────────────────────────────────────────────────────────────────────────────────────────────────────┐\n",
      "│\u001b[1m Category \u001b[0m│\u001b[1m Message                                                                                                                                                          \u001b[0m│\n",
      "│\u001b[90m String7  \u001b[0m│\u001b[90m String                                                                                                                                                           \u001b[0m│\n",
      "│\u001b[90m Textual  \u001b[0m│\u001b[90m Textual                                                                                                                                                          \u001b[0m│\n",
      "├──────────┼──────────────────────────────────────────────────────────────────────────────────────────────────────────────────────────────────────────────────────────────────┤\n",
      "│ ham      │ Go until jurong point, crazy.. Available only in bugis n great world la e buffet... Cine there got amore wat...                                                  │\n",
      "│ ham      │ Ok lar... Joking wif u oni...                                                                                                                                    │\n",
      "│ spam     │ Free entry in 2 a wkly comp to win FA Cup final tkts 21st May 2005. Text FA to 87121 to receive entry question(std txt rate)T&C's apply 08452810075over18's      │\n",
      "│ ham      │ U dun say so early hor... U c already then say...                                                                                                                │\n",
      "│ ham      │ Nah I don't think he goes to usf, he lives around here though                                                                                                    │\n",
      "│ spam     │ FreeMsg Hey there darling it's been 3 week's now and no word back! I'd like some fun you up for it still? Tb ok! XxX std chgs to send, £1.50 to rcv              │\n",
      "│ ham      │ Even my brother is not like to speak with me. They treat me like aids patent.                                                                                    │\n",
      "│ ham      │ As per your request 'Melle Melle (Oru Minnaminunginte Nurungu Vettam)' has been set as your callertune for all Callers. Press *9 to copy your friends Callertune │\n",
      "│ spam     │ WINNER!! As a valued network customer you have been selected to receivea £900 prize reward! To claim call 09061701461. Claim code KL341. Valid 12 hours only.    │\n",
      "│ spam     │ Had your mobile 11 months or more? U R entitled to Update to the latest colour mobiles with camera for Free! Call The Mobile Update Co FREE on 08002986030       │\n",
      "└──────────┴──────────────────────────────────────────────────────────────────────────────────────────────────────────────────────────────────────────────────────────────────┘\n"
     ]
    }
   ],
   "source": [
    "df = CSV.read(\"/Users/desgi/Desktop/TXT_Spam_classification/SPAM text message 20170820 - Data.csv\", DataFrames.DataFrame)\n",
    "first(df, 10) |> pretty"
   ]
  },
  {
   "cell_type": "markdown",
   "metadata": {},
   "source": [
    "Text Preprocessing: Transforming data in order to effectively process text. This requires our data to be either a StringDocument, FileDocument, TokenDocument, or NGramDocument. This is followed by normalizing text, removal of numbers, removal of punctuation, and removal of HTML tags."
   ]
  },
  {
   "cell_type": "code",
   "execution_count": 11,
   "metadata": {},
   "outputs": [
    {
     "data": {
      "text/html": [
       "<div><div style = \"float: left;\"><span>5572×3 DataFrame</span></div><div style = \"float: right;\"><span style = \"font-style: italic;\">5547 rows omitted</span></div><div style = \"clear: both;\"></div></div><div class = \"data-frame\" style = \"overflow-x: scroll;\"><table class = \"data-frame\" style = \"margin-bottom: 6px;\"><thead><tr class = \"header\"><th class = \"rowNumber\" style = \"font-weight: bold; text-align: right;\">Row</th><th style = \"text-align: left;\">Category</th><th style = \"text-align: left;\">Message</th><th style = \"text-align: left;\">Message2</th></tr><tr class = \"subheader headerLastRow\"><th class = \"rowNumber\" style = \"font-weight: bold; text-align: right;\"></th><th title = \"String7\" style = \"text-align: left;\">String7</th><th title = \"String\" style = \"text-align: left;\">String</th><th title = \"StringDocument{String}\" style = \"text-align: left;\">StringDo…</th></tr></thead><tbody><tr><td class = \"rowNumber\" style = \"font-weight: bold; text-align: right;\">1</td><td style = \"text-align: left;\">ham</td><td style = \"text-align: left;\">Go until jurong point, crazy.. Available only in bugis n great world la e buffet... Cine there got amore wat...</td><td style = \"text-align: left;\">A StringDocument{String}</td></tr><tr><td class = \"rowNumber\" style = \"font-weight: bold; text-align: right;\">2</td><td style = \"text-align: left;\">ham</td><td style = \"text-align: left;\">Ok lar... Joking wif u oni...</td><td style = \"text-align: left;\">A StringDocument{String}</td></tr><tr><td class = \"rowNumber\" style = \"font-weight: bold; text-align: right;\">3</td><td style = \"text-align: left;\">spam</td><td style = \"text-align: left;\">Free entry in 2 a wkly comp to win FA Cup final tkts 21st May 2005. Text FA to 87121 to receive entry question(std txt rate)T&amp;C&apos;s apply 08452810075over18&apos;s</td><td style = \"text-align: left;\">A StringDocument{String}</td></tr><tr><td class = \"rowNumber\" style = \"font-weight: bold; text-align: right;\">4</td><td style = \"text-align: left;\">ham</td><td style = \"text-align: left;\">U dun say so early hor... U c already then say...</td><td style = \"text-align: left;\">A StringDocument{String}</td></tr><tr><td class = \"rowNumber\" style = \"font-weight: bold; text-align: right;\">5</td><td style = \"text-align: left;\">ham</td><td style = \"text-align: left;\">Nah I don&apos;t think he goes to usf, he lives around here though</td><td style = \"text-align: left;\">A StringDocument{String}</td></tr><tr><td class = \"rowNumber\" style = \"font-weight: bold; text-align: right;\">6</td><td style = \"text-align: left;\">spam</td><td style = \"text-align: left;\">FreeMsg Hey there darling it&apos;s been 3 week&apos;s now and no word back! I&apos;d like some fun you up for it still? Tb ok! XxX std chgs to send, £1.50 to rcv</td><td style = \"text-align: left;\">A StringDocument{String}</td></tr><tr><td class = \"rowNumber\" style = \"font-weight: bold; text-align: right;\">7</td><td style = \"text-align: left;\">ham</td><td style = \"text-align: left;\">Even my brother is not like to speak with me. They treat me like aids patent.</td><td style = \"text-align: left;\">A StringDocument{String}</td></tr><tr><td class = \"rowNumber\" style = \"font-weight: bold; text-align: right;\">8</td><td style = \"text-align: left;\">ham</td><td style = \"text-align: left;\">As per your request &apos;Melle Melle (Oru Minnaminunginte Nurungu Vettam)&apos; has been set as your callertune for all Callers. Press *9 to copy your friends Callertune</td><td style = \"text-align: left;\">A StringDocument{String}</td></tr><tr><td class = \"rowNumber\" style = \"font-weight: bold; text-align: right;\">9</td><td style = \"text-align: left;\">spam</td><td style = \"text-align: left;\">WINNER!! As a valued network customer you have been selected to receivea £900 prize reward! To claim call 09061701461. Claim code KL341. Valid 12 hours only.</td><td style = \"text-align: left;\">A StringDocument{String}</td></tr><tr><td class = \"rowNumber\" style = \"font-weight: bold; text-align: right;\">10</td><td style = \"text-align: left;\">spam</td><td style = \"text-align: left;\">Had your mobile 11 months or more? U R entitled to Update to the latest colour mobiles with camera for Free! Call The Mobile Update Co FREE on 08002986030</td><td style = \"text-align: left;\">A StringDocument{String}</td></tr><tr><td class = \"rowNumber\" style = \"font-weight: bold; text-align: right;\">11</td><td style = \"text-align: left;\">ham</td><td style = \"text-align: left;\">I&apos;m gonna be home soon and i don&apos;t want to talk about this stuff anymore tonight, k? I&apos;ve cried enough today.</td><td style = \"text-align: left;\">A StringDocument{String}</td></tr><tr><td class = \"rowNumber\" style = \"font-weight: bold; text-align: right;\">12</td><td style = \"text-align: left;\">spam</td><td style = \"text-align: left;\">SIX chances to win CASH! From 100 to 20,000 pounds txt&gt; CSH11 and send to 87575. Cost 150p/day, 6days, 16+ TsandCs apply Reply HL 4 info</td><td style = \"text-align: left;\">A StringDocument{String}</td></tr><tr><td class = \"rowNumber\" style = \"font-weight: bold; text-align: right;\">13</td><td style = \"text-align: left;\">spam</td><td style = \"text-align: left;\">URGENT! You have won a 1 week FREE membership in our £100,000 Prize Jackpot! Txt the word: CLAIM to No: 81010 T&amp;C www.dbuk.net LCCLTD POBOX 4403LDNW1A7RW18</td><td style = \"text-align: left;\">A StringDocument{String}</td></tr><tr><td style = \"text-align: right;\">&vellip;</td><td style = \"text-align: right;\">&vellip;</td><td style = \"text-align: right;\">&vellip;</td><td style = \"text-align: right;\">&vellip;</td></tr><tr><td class = \"rowNumber\" style = \"font-weight: bold; text-align: right;\">5561</td><td style = \"text-align: left;\">ham</td><td style = \"text-align: left;\">Anything lor. Juz both of us lor.</td><td style = \"text-align: left;\">A StringDocument{String}</td></tr><tr><td class = \"rowNumber\" style = \"font-weight: bold; text-align: right;\">5562</td><td style = \"text-align: left;\">ham</td><td style = \"text-align: left;\">Get me out of this dump heap. My mom decided to come to lowes. BORING.</td><td style = \"text-align: left;\">A StringDocument{String}</td></tr><tr><td class = \"rowNumber\" style = \"font-weight: bold; text-align: right;\">5563</td><td style = \"text-align: left;\">ham</td><td style = \"text-align: left;\">Ok lor... Sony ericsson salesman... I ask shuhui then she say quite gd 2 use so i considering...</td><td style = \"text-align: left;\">A StringDocument{String}</td></tr><tr><td class = \"rowNumber\" style = \"font-weight: bold; text-align: right;\">5564</td><td style = \"text-align: left;\">ham</td><td style = \"text-align: left;\">Ard 6 like dat lor.</td><td style = \"text-align: left;\">A StringDocument{String}</td></tr><tr><td class = \"rowNumber\" style = \"font-weight: bold; text-align: right;\">5565</td><td style = \"text-align: left;\">ham</td><td style = \"text-align: left;\">Why don&apos;t you wait &apos;til at least wednesday to see if you get your .</td><td style = \"text-align: left;\">A StringDocument{String}</td></tr><tr><td class = \"rowNumber\" style = \"font-weight: bold; text-align: right;\">5566</td><td style = \"text-align: left;\">ham</td><td style = \"text-align: left;\">Huh y lei...</td><td style = \"text-align: left;\">A StringDocument{String}</td></tr><tr><td class = \"rowNumber\" style = \"font-weight: bold; text-align: right;\">5567</td><td style = \"text-align: left;\">spam</td><td style = \"text-align: left;\">REMINDER FROM O2: To get 2.50 pounds free call credit and details of great offers pls reply 2 this text with your valid name, house no and postcode</td><td style = \"text-align: left;\">A StringDocument{String}</td></tr><tr><td class = \"rowNumber\" style = \"font-weight: bold; text-align: right;\">5568</td><td style = \"text-align: left;\">spam</td><td style = \"text-align: left;\">This is the 2nd time we have tried 2 contact u. U have won the £750 Pound prize. 2 claim is easy, call 087187272008 NOW1! Only 10p per minute. BT-national-rate.</td><td style = \"text-align: left;\">A StringDocument{String}</td></tr><tr><td class = \"rowNumber\" style = \"font-weight: bold; text-align: right;\">5569</td><td style = \"text-align: left;\">ham</td><td style = \"text-align: left;\">Will ü b going to esplanade fr home?</td><td style = \"text-align: left;\">A StringDocument{String}</td></tr><tr><td class = \"rowNumber\" style = \"font-weight: bold; text-align: right;\">5570</td><td style = \"text-align: left;\">ham</td><td style = \"text-align: left;\">Pity, * was in mood for that. So...any other suggestions?</td><td style = \"text-align: left;\">A StringDocument{String}</td></tr><tr><td class = \"rowNumber\" style = \"font-weight: bold; text-align: right;\">5571</td><td style = \"text-align: left;\">ham</td><td style = \"text-align: left;\">The guy did some bitching but I acted like i&apos;d be interested in buying something else next week and he gave it to us for free</td><td style = \"text-align: left;\">A StringDocument{String}</td></tr><tr><td class = \"rowNumber\" style = \"font-weight: bold; text-align: right;\">5572</td><td style = \"text-align: left;\">ham</td><td style = \"text-align: left;\">Rofl. Its true to its name</td><td style = \"text-align: left;\">A StringDocument{String}</td></tr></tbody></table></div>"
      ],
      "text/latex": [
       "\\begin{tabular}{r|ccc}\n",
       "\t& Category & Message & \\\\\n",
       "\t\\hline\n",
       "\t& String7 & String & \\\\\n",
       "\t\\hline\n",
       "\t1 & ham & Go until jurong point, crazy.. Available only in bugis n great world la e buffet... Cine there got amore wat... & $\\dots$ \\\\\n",
       "\t2 & ham & Ok lar... Joking wif u oni... & $\\dots$ \\\\\n",
       "\t3 & spam & Free entry in 2 a wkly comp to win FA Cup final tkts 21st May 2005. Text FA to 87121 to receive entry question(std txt rate)T\\&C's apply 08452810075over18's & $\\dots$ \\\\\n",
       "\t4 & ham & U dun say so early hor... U c already then say... & $\\dots$ \\\\\n",
       "\t5 & ham & Nah I don't think he goes to usf, he lives around here though & $\\dots$ \\\\\n",
       "\t6 & spam & FreeMsg Hey there darling it's been 3 week's now and no word back! I'd like some fun you up for it still? Tb ok! XxX std chgs to send, £1.50 to rcv & $\\dots$ \\\\\n",
       "\t7 & ham & Even my brother is not like to speak with me. They treat me like aids patent. & $\\dots$ \\\\\n",
       "\t8 & ham & As per your request 'Melle Melle (Oru Minnaminunginte Nurungu Vettam)' has been set as your callertune for all Callers. Press *9 to copy your friends Callertune & $\\dots$ \\\\\n",
       "\t9 & spam & WINNER!! As a valued network customer you have been selected to receivea £900 prize reward! To claim call 09061701461. Claim code KL341. Valid 12 hours only. & $\\dots$ \\\\\n",
       "\t10 & spam & Had your mobile 11 months or more? U R entitled to Update to the latest colour mobiles with camera for Free! Call The Mobile Update Co FREE on 08002986030 & $\\dots$ \\\\\n",
       "\t11 & ham & I'm gonna be home soon and i don't want to talk about this stuff anymore tonight, k? I've cried enough today. & $\\dots$ \\\\\n",
       "\t12 & spam & SIX chances to win CASH! From 100 to 20,000 pounds txt> CSH11 and send to 87575. Cost 150p/day, 6days, 16+ TsandCs apply Reply HL 4 info & $\\dots$ \\\\\n",
       "\t13 & spam & URGENT! You have won a 1 week FREE membership in our £100,000 Prize Jackpot! Txt the word: CLAIM to No: 81010 T\\&C www.dbuk.net LCCLTD POBOX 4403LDNW1A7RW18 & $\\dots$ \\\\\n",
       "\t14 & ham & I've been searching for the right words to thank you for this breather. I promise i wont take your help for granted and will fulfil my promise. You have been wonderful and a blessing at all times. & $\\dots$ \\\\\n",
       "\t15 & ham & I HAVE A DATE ON SUNDAY WITH WILL!! & $\\dots$ \\\\\n",
       "\t16 & spam & XXXMobileMovieClub: To use your credit, click the WAP link in the next txt message or click here>> http://wap. xxxmobilemovieclub.com?n=QJKGIGHJJGCBL & $\\dots$ \\\\\n",
       "\t17 & ham & Oh k...i'm watching here:) & $\\dots$ \\\\\n",
       "\t18 & ham & Eh u remember how 2 spell his name... Yes i did. He v naughty make until i v wet. & $\\dots$ \\\\\n",
       "\t19 & ham & Fine if that\\textbackslash{}u92s the way u feel. That\\textbackslash{}u92s the way its gota b & $\\dots$ \\\\\n",
       "\t20 & spam & England v Macedonia - dont miss the goals/team news. Txt ur national team to 87077 eg ENGLAND to 87077 Try:WALES, SCOTLAND 4txt/ú1.20 POBOXox36504W45WQ 16+ & $\\dots$ \\\\\n",
       "\t21 & ham & Is that seriously how you spell his name? & $\\dots$ \\\\\n",
       "\t22 & ham & I‘m going to try for 2 months ha ha only joking & $\\dots$ \\\\\n",
       "\t23 & ham & So ü pay first lar... Then when is da stock comin... & $\\dots$ \\\\\n",
       "\t24 & ham & Aft i finish my lunch then i go str down lor. Ard 3 smth lor. U finish ur lunch already? & $\\dots$ \\\\\n",
       "\t$\\dots$ & $\\dots$ & $\\dots$ &  \\\\\n",
       "\\end{tabular}\n"
      ],
      "text/plain": [
       "\u001b[1m5572×3 DataFrame\u001b[0m\n",
       "\u001b[1m  Row \u001b[0m│\u001b[1m Category \u001b[0m\u001b[1m Message                           \u001b[0m\u001b[1m Message2                 \u001b[0m\n",
       "      │\u001b[90m String7  \u001b[0m\u001b[90m String                            \u001b[0m\u001b[90m StringDo…                \u001b[0m\n",
       "──────┼───────────────────────────────────────────────────────────────────────\n",
       "    1 │ ham       Go until jurong point, crazy.. A…  A StringDocument{String}\n",
       "    2 │ ham       Ok lar... Joking wif u oni...      A StringDocument{String}\n",
       "    3 │ spam      Free entry in 2 a wkly comp to w…  A StringDocument{String}\n",
       "    4 │ ham       U dun say so early hor... U c al…  A StringDocument{String}\n",
       "    5 │ ham       Nah I don't think he goes to usf…  A StringDocument{String}\n",
       "    6 │ spam      FreeMsg Hey there darling it's b…  A StringDocument{String}\n",
       "    7 │ ham       Even my brother is not like to s…  A StringDocument{String}\n",
       "    8 │ ham       As per your request 'Melle Melle…  A StringDocument{String}\n",
       "  ⋮   │    ⋮                      ⋮                             ⋮\n",
       " 5566 │ ham       Huh y lei...                       A StringDocument{String}\n",
       " 5567 │ spam      REMINDER FROM O2: To get 2.50 po…  A StringDocument{String}\n",
       " 5568 │ spam      This is the 2nd time we have tri…  A StringDocument{String}\n",
       " 5569 │ ham       Will ü b going to esplanade fr h…  A StringDocument{String}\n",
       " 5570 │ ham       Pity, * was in mood for that. So…  A StringDocument{String}\n",
       " 5571 │ ham       The guy did some bitching but I …  A StringDocument{String}\n",
       " 5572 │ ham       Rofl. Its true to its name         A StringDocument{String}\n",
       "\u001b[36m                                                             5557 rows omitted\u001b[0m"
      ]
     },
     "metadata": {},
     "output_type": "display_data"
    }
   ],
   "source": [
    "\n",
    "df = @chain df begin\n",
    "    DataFrames.transform(:Message => ByRow(x -> StringDocument(x)) => :Message2)\n",
    "  end"
   ]
  },
  {
   "cell_type": "code",
   "execution_count": 12,
   "metadata": {},
   "outputs": [
    {
     "data": {
      "text/plain": [
       "5572-element Vector{Nothing}:\n",
       " nothing\n",
       " nothing\n",
       " nothing\n",
       " nothing\n",
       " nothing\n",
       " nothing\n",
       " nothing\n",
       " nothing\n",
       " nothing\n",
       " nothing\n",
       " ⋮\n",
       " nothing\n",
       " nothing\n",
       " nothing\n",
       " nothing\n",
       " nothing\n",
       " nothing\n",
       " nothing\n",
       " nothing\n",
       " nothing"
      ]
     },
     "metadata": {},
     "output_type": "display_data"
    }
   ],
   "source": [
    "\n",
    "remove_case!.(df[:, :Message2])\n",
    "prepare!.(df[:, :Message2], strip_html_tags| strip_punctuation| strip_numbers)\n",
    "stem!.(df[:, :Message2])"
   ]
  },
  {
   "cell_type": "markdown",
   "metadata": {},
   "source": [
    "Transforming data into a corpus object, or a collection of documents."
   ]
  },
  {
   "cell_type": "code",
   "execution_count": 13,
   "metadata": {},
   "outputs": [
    {
     "data": {
      "text/plain": [
       "A Corpus with 5572 documents:\n",
       " * 5572 StringDocument's\n",
       " * 0 FileDocument's\n",
       " * 0 TokenDocument's\n",
       " * 0 NGramDocument's\n",
       "\n",
       "Corpus's lexicon contains 0 tokens\n",
       "Corpus's index contains 0 tokens"
      ]
     },
     "metadata": {},
     "output_type": "display_data"
    }
   ],
   "source": [
    "crps = Corpus(df[:, :Message2])"
   ]
  },
  {
   "cell_type": "markdown",
   "metadata": {},
   "source": [
    "Building and updating vocabulary via update_lexicon!()."
   ]
  },
  {
   "cell_type": "code",
   "execution_count": 14,
   "metadata": {},
   "outputs": [],
   "source": [
    "update_lexicon!(crps)"
   ]
  },
  {
   "cell_type": "markdown",
   "metadata": {},
   "source": [
    "Document-term Matrix & tf_idf: Describing frequency of terms and evaluating term relevancy."
   ]
  },
  {
   "cell_type": "code",
   "execution_count": 15,
   "metadata": {},
   "outputs": [
    {
     "data": {
      "text/plain": [
       "5572×7298 SparseArrays.SparseMatrixCSC{Float64, Int64} with 75698 stored entries:\n",
       "⣿⣿⣿⣿⣿⣿⣿⣿⣿⣿⣿⣿⣿⣿⣿⣿⣿⣿⣿⣿⣿⣿⣿⣿⣿⣿⡿⣿⣿⣿⣿⣿⣿⣿⣿⣿⣿⣿⣿⣿\n",
       "⣿⣿⣿⣿⣿⣿⣿⣿⣿⣿⣿⣿⣿⣿⣿⣿⣿⣿⣿⣿⣿⣿⣿⣿⣿⣿⣿⣿⣿⣿⣿⣿⣿⣿⣿⣿⣿⣿⣿⣿\n",
       "⣿⣿⣿⣿⣿⣿⣿⣿⣿⣿⣿⣿⣿⣿⣿⣿⣿⣿⣿⣿⣿⣿⣿⣿⣿⣿⣿⣿⣿⣿⣿⣿⣿⣿⣿⣿⣿⣿⣿⣿\n",
       "⣿⣿⣿⣿⣿⣿⣿⣿⣿⣿⣿⣿⣿⣿⣿⣿⣿⣿⣿⣿⣿⣿⣿⣿⣿⣿⣿⣿⣿⣿⣿⣿⣿⣿⣿⣿⣿⣿⣿⣿\n",
       "⣿⣿⣿⣿⣿⣿⣿⣿⣿⣿⣿⣿⣿⣿⣿⣿⣿⣿⣿⣿⣿⣿⣿⣿⣿⣿⣿⣿⣿⣿⣿⣿⣿⣿⣿⣿⣿⣿⣿⣿\n",
       "⣿⣿⣿⣿⣿⣿⣿⣿⣿⣿⣿⣿⣿⣿⣿⣿⣿⣿⣿⣿⣿⣿⣿⣿⣿⣿⣿⣿⣿⣿⣿⣿⣿⣿⣿⣿⣿⣿⣿⣿\n",
       "⣿⣿⣿⣿⣿⣿⣿⣿⣿⣿⣿⣿⣿⣿⣿⣿⣿⣿⣿⣿⣿⣿⣿⣿⣿⣿⣿⣿⣿⣿⣿⣿⣿⣿⣿⣿⣿⣿⣿⣿\n",
       "⣿⣿⣿⣿⣿⣿⣿⣿⣿⣿⣿⣿⣿⣿⣿⣿⣿⣿⣿⣿⣿⣿⣿⣿⣿⣿⣿⣿⣿⣿⣿⣿⣿⣿⣿⣿⣿⣿⣿⣿\n",
       "⣿⣿⣿⣿⣿⣿⣿⣿⣿⣿⣿⣿⣿⣿⣿⣿⣿⢿⣿⣿⣿⣿⣿⣿⣿⣿⣿⣿⣿⣿⣿⣿⣿⣿⣿⣿⣿⣿⣿⣿\n",
       "⣿⣿⣿⣿⣿⣿⣿⣿⣿⣿⣿⣿⣿⣿⣿⣿⣿⣿⣿⣿⣿⣿⣿⣿⣿⣿⣿⣿⣿⣿⣿⣿⣿⣿⣿⣿⣿⣿⣿⣿\n",
       "⣿⣿⣿⣿⣿⣿⣿⣿⣿⣿⣿⣿⣿⣿⣿⣿⣿⣿⣿⣿⣿⣿⣿⣿⣿⣿⣿⣿⣿⣿⣿⣿⣿⣿⣿⣿⣿⣿⣿⣿\n",
       "⣿⣿⣿⣿⣿⣿⣿⣿⣿⣿⣿⣿⣿⣿⣿⣿⣿⣿⣿⣿⣿⣿⣿⣿⣿⣿⣿⣿⣿⣿⣿⣿⣿⣿⣿⣿⣿⣿⣿⣿\n",
       "⣿⣿⣿⣿⣿⣿⣿⣿⣿⣿⣿⣿⣿⣿⣿⣿⣿⣿⣿⣿⣿⣿⣿⣿⣿⣿⣿⣿⣿⣿⣿⣿⣿⣿⣿⣿⣿⣿⣿⣿\n",
       "⣿⣿⣿⣿⣿⣿⣿⣿⣿⣿⣿⣿⣿⣿⣿⣿⣿⣿⣿⣿⣿⣿⣿⣿⣿⣿⣿⣿⣿⣿⣿⣿⣿⣿⣿⣿⣿⣿⣿⣿\n",
       "⣿⣿⣿⣿⣿⣿⣿⣿⣿⣿⣿⣿⣿⣿⣿⣿⣿⣿⣿⣿⣿⣿⣿⣿⡿⣿⣿⣿⣿⣿⣿⣿⣿⣿⣿⣿⣿⣿⣿⣿\n",
       "⠉⠉⠉⠉⠉⠉⠉⠉⠉⠉⠉⠉⠉⠉⠉⠉⠉⠉⠉⠉⠉⠉⠉⠉⠁⠉⠉⠉⠉⠉⠉⠉⠉⠉⠉⠉⠉⠉⠉⠉"
      ]
     },
     "metadata": {},
     "output_type": "display_data"
    }
   ],
   "source": [
    "m = DocumentTermMatrix(crps)\n",
    "tfidf_mat = tf_idf(m)"
   ]
  },
  {
   "cell_type": "markdown",
   "metadata": {},
   "source": [
    "ML: Defining X and y"
   ]
  },
  {
   "cell_type": "code",
   "execution_count": 16,
   "metadata": {},
   "outputs": [
    {
     "data": {
      "text/plain": [
       "(sparse([43, 2279, 2851, 2872, 2934, 3958, 5069, 5083, 415, 734  …  1974, 2027, 2573, 2793, 3841, 3972, 4031, 4100, 4140, 4421], [1, 1, 1, 1, 1, 1, 1, 1, 2, 2  …  7298, 7298, 7298, 7298, 7298, 7298, 7298, 7298, 7298, 7298], [0.23378813547213786, 0.2517718382007639, 0.4514529512565421, 0.4514529512565421, 0.9697878212177571, 0.40912923707624127, 0.40912923707624127, 0.7792937849071262, 1.4478429947559612, 0.38101131440946345  …  0.19088577850959632, 0.4226756524141061, 1.0759016606904521, 0.2191651531036106, 0.31144521756828875, 0.23669836535189945, 0.7396823917246858, 0.5917459133797486, 0.3287477296554159, 0.2572808319042385], 5572, 7298), String7[String7(\"ham\"), String7(\"ham\"), String7(\"spam\"), String7(\"ham\"), String7(\"ham\"), String7(\"spam\"), String7(\"ham\"), String7(\"ham\"), String7(\"spam\"), String7(\"spam\")  …  String7(\"ham\"), String7(\"ham\"), String7(\"ham\"), String7(\"ham\"), String7(\"spam\"), String7(\"spam\"), String7(\"ham\"), String7(\"ham\"), String7(\"ham\"), String7(\"ham\")])"
      ]
     },
     "metadata": {},
     "output_type": "display_data"
    }
   ],
   "source": [
    "X, y = tfidf_mat, df[:,:Category]"
   ]
  },
  {
   "cell_type": "markdown",
   "metadata": {},
   "source": [
    "Data modeling with DecisionTreeClassifier."
   ]
  },
  {
   "cell_type": "code",
   "execution_count": 20,
   "metadata": {},
   "outputs": [
    {
     "name": "stdout",
     "output_type": "stream",
     "text": [
      "import MLJDecisionTreeInterface ✔"
     ]
    },
    {
     "name": "stdout",
     "output_type": "stream",
     "text": [
      "\n"
     ]
    },
    {
     "name": "stderr",
     "output_type": "stream",
     "text": [
      "\u001b[32m\u001b[1m   Resolving\u001b[22m\u001b[39m package versions...\n",
      "\u001b[32m\u001b[1m   Installed\u001b[22m\u001b[39m ScikitLearnBase ────────── v0.5.0\n",
      "\u001b[32m\u001b[1m   Installed\u001b[22m\u001b[39m MLJDecisionTreeInterface ─ v0.3.0\n",
      "\u001b[32m\u001b[1m   Installed\u001b[22m\u001b[39m DecisionTree ───────────── v0.12.0\n",
      "\u001b[32m\u001b[1m    Updating\u001b[22m\u001b[39m `~/.julia/environments/v1.8/Project.toml`\n",
      " \u001b[90m [c6f25543] \u001b[39m\u001b[92m+ MLJDecisionTreeInterface v0.3.0\u001b[39m\n",
      "\u001b[32m\u001b[1m    Updating\u001b[22m\u001b[39m `~/.julia/environments/v1.8/Manifest.toml`\n",
      " \u001b[90m [1520ce14] \u001b[39m\u001b[92m+ AbstractTrees v0.4.3\u001b[39m\n",
      " \u001b[90m [7806a523] \u001b[39m\u001b[92m+ DecisionTree v0.12.0\u001b[39m\n",
      " \u001b[90m [c6f25543] \u001b[39m\u001b[92m+ MLJDecisionTreeInterface v0.3.0\u001b[39m\n",
      " \u001b[90m [6e75b9c4] \u001b[39m\u001b[92m+ ScikitLearnBase v0.5.0\u001b[39m\n",
      "\u001b[32m\u001b[1mPrecompiling\u001b[22m\u001b[39m project...\n",
      "\u001b[32m  ✓ \u001b[39m\u001b[90mScikitLearnBase\u001b[39m\n",
      "\u001b[32m  ✓ \u001b[39m\u001b[90mDecisionTree\u001b[39m\n",
      "\u001b[32m  ✓ \u001b[39mMLJDecisionTreeInterface\n",
      "  3 dependencies successfully precompiled in 2 seconds. 289 already precompiled.\n",
      "┌ Info: For silent loading, specify `verbosity=0`. \n",
      "└ @ Main /Users/desgi/.julia/packages/MLJModels/8Nrhi/src/loading.jl:159\n"
     ]
    },
    {
     "data": {
      "text/plain": [
       "DecisionTreeClassifier(\n",
       "  max_depth = -1, \n",
       "  min_samples_leaf = 1, \n",
       "  min_samples_split = 2, \n",
       "  min_purity_increase = 0.0, \n",
       "  n_subfeatures = 0, \n",
       "  post_prune = false, \n",
       "  merge_purity_threshold = 1.0, \n",
       "  display_depth = 5, \n",
       "  feature_importance = :impurity, \n",
       "  rng = Random._GLOBAL_RNG())"
      ]
     },
     "metadata": {},
     "output_type": "display_data"
    }
   ],
   "source": [
    "Pkg.add(\"MLJDecisionTreeInterface\")\n",
    "\n",
    "DecisionTreeClassifier = @load DecisionTreeClassifier pkg=DecisionTree\n",
    "tree_model = DecisionTreeClassifier()\n"
   ]
  },
  {
   "cell_type": "markdown",
   "metadata": {},
   "source": [
    "Creating a contrainer of model parameters using machine."
   ]
  },
  {
   "cell_type": "code",
   "execution_count": 22,
   "metadata": {},
   "outputs": [
    {
     "name": "stderr",
     "output_type": "stream",
     "text": [
      "┌ Warning: The number and/or types of data arguments do not match what the specified model\n",
      "│ supports. Suppress this type check by specifying `scitype_check_level=0`.\n",
      "│ \n",
      "│ Run `@doc DecisionTree.DecisionTreeClassifier` to learn more about your model's requirements.\n",
      "│ \n",
      "│ Commonly, but non exclusively, supervised models are constructed using the syntax\n",
      "│ `machine(model, X, y)` or `machine(model, X, y, w)` while most other models are\n",
      "│ constructed with `machine(model, X)`.  Here `X` are features, `y` a target, and `w`\n",
      "│ sample or class weights.\n",
      "│ \n",
      "│ In general, data in `machine(model, data...)` is expected to satisfy\n",
      "│ \n",
      "│     scitype(data) <: MLJ.fit_data_scitype(model)\n",
      "│ \n",
      "│ In the present case:\n",
      "│ \n",
      "│ scitype(data) = Tuple{AbstractMatrix{Continuous}, AbstractVector{Multiclass{2}}}\n",
      "│ \n",
      "│ fit_data_scitype(model) = Tuple{Table{<:Union{AbstractVector{<:Continuous}, AbstractVector{<:Count}, AbstractVector{<:OrderedFactor}}}, AbstractVector{<:Finite}}\n",
      "└ @ MLJBase /Users/desgi/.julia/packages/MLJBase/LxNAs/src/machines.jl:230\n"
     ]
    },
    {
     "data": {
      "text/plain": [
       "untrained Machine; caches model-specific representations of data\n",
       "  model: DecisionTreeClassifier(max_depth = -1, …)\n",
       "  args: \n",
       "    1:\tSource @441 ⏎ AbstractMatrix{Continuous}\n",
       "    2:\tSource @330 ⏎ AbstractVector{Multiclass{2}}\n"
      ]
     },
     "metadata": {},
     "output_type": "display_data"
    }
   ],
   "source": [
    "\n",
    "tree = machine(tree_model, coerce(X, Continuous), coerce(y, Multiclass))"
   ]
  },
  {
   "cell_type": "markdown",
   "metadata": {},
   "source": [
    "Partitioning Data with 85/15 ratio."
   ]
  },
  {
   "cell_type": "code",
   "execution_count": 23,
   "metadata": {},
   "outputs": [
    {
     "data": {
      "text/plain": [
       "([3780, 3263, 1491, 1048, 1668, 1259, 3547, 2517, 4294, 1665  …  5527, 3382, 2561, 4734, 2954, 71, 803, 934, 1705, 1476], [3389, 785, 164, 2282, 1325, 859, 2646, 2696, 5353, 201  …  1201, 2472, 2483, 1126, 438, 2145, 1585, 1857, 5561, 4754])"
      ]
     },
     "metadata": {},
     "output_type": "display_data"
    }
   ],
   "source": [
    "rng = StableRNG(42)\n",
    "train,test = partition(eachindex(y), 0.85, shuffle=true, rng=rng)"
   ]
  },
  {
   "cell_type": "markdown",
   "metadata": {},
   "source": [
    "Fitting the training set."
   ]
  },
  {
   "cell_type": "code",
   "execution_count": 24,
   "metadata": {},
   "outputs": [
    {
     "name": "stderr",
     "output_type": "stream",
     "text": [
      "┌ Info: Training machine(DecisionTreeClassifier(max_depth = -1, …), …).\n",
      "└ @ MLJBase /Users/desgi/.julia/packages/MLJBase/LxNAs/src/machines.jl:492\n"
     ]
    },
    {
     "data": {
      "text/plain": [
       "trained Machine; caches model-specific representations of data\n",
       "  model: DecisionTreeClassifier(max_depth = -1, …)\n",
       "  args: \n",
       "    1:\tSource @441 ⏎ AbstractMatrix{Continuous}\n",
       "    2:\tSource @330 ⏎ AbstractVector{Multiclass{2}}\n"
      ]
     },
     "metadata": {},
     "output_type": "display_data"
    }
   ],
   "source": [
    "MLJ.fit!(tree, rows=train)"
   ]
  },
  {
   "cell_type": "markdown",
   "metadata": {},
   "source": [
    "Evaluating Model Performance: Log-Loss & Accuracy."
   ]
  },
  {
   "cell_type": "code",
   "execution_count": 26,
   "metadata": {},
   "outputs": [
    {
     "name": "stdout",
     "output_type": "stream",
     "text": [
      "Log-Loss on the Test Set: : 0.9054027765208853\n"
     ]
    },
    {
     "name": "stdout",
     "output_type": "stream",
     "text": [
      "Accuracy on the Test Set : 0.9748803827751196\n"
     ]
    },
    {
     "name": "stderr",
     "output_type": "stream",
     "text": [
      "┌ Warning: The classes are un-ordered,\n",
      "│ using: negative='ham' and positive='spam'.\n",
      "│ To suppress this warning, consider coercing to OrderedFactor.\n",
      "└ @ MLJBase /Users/desgi/.julia/packages/MLJBase/LxNAs/src/measures/confusion_matrix.jl:116\n"
     ]
    },
    {
     "data": {
      "text/plain": [
       "              ┌───────────────────────────┐\n",
       "              │       Ground Truth        │\n",
       "┌─────────────┼─────────────┬─────────────┤\n",
       "│  Predicted  │     ham     │    spam     │\n",
       "├─────────────┼─────────────┼─────────────┤\n",
       "│     ham     │     723     │     15      │\n",
       "├─────────────┼─────────────┼─────────────┤\n",
       "│    spam     │      6      │     92      │\n",
       "└─────────────┴─────────────┴─────────────┘\n"
      ]
     },
     "metadata": {},
     "output_type": "display_data"
    }
   ],
   "source": [
    "yhat = MLJ.predict(tree, coerce(X[test, :], Continuous))\n",
    "\n",
    "println(\"Log-Loss on the Test Set: : $(log_loss(yhat, coerce(y[test], Multiclass)) |> mean)\")\n",
    "\n",
    "println(\"Accuracy on the Test Set : $(accuracy(mode.(yhat), coerce(y[test], Multiclass)))\")\n",
    "\n",
    "ConfusionMatrix()(mode.(yhat), coerce(y[test], Multiclass))"
   ]
  }
 ],
 "metadata": {
  "kernelspec": {
   "display_name": "Julia 1.8.3",
   "language": "julia",
   "name": "julia-1.8"
  },
  "language_info": {
   "file_extension": ".jl",
   "mimetype": "application/julia",
   "name": "julia",
   "version": "1.8.3"
  },
  "orig_nbformat": 4
 },
 "nbformat": 4,
 "nbformat_minor": 2
}
